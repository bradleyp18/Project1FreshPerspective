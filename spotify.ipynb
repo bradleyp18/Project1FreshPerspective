{
 "cells": [
  {
   "cell_type": "code",
   "execution_count": 1,
   "id": "858df1a1",
   "metadata": {},
   "outputs": [],
   "source": [
    "# Import Dependencies\n",
    "\n",
    "import requests \n",
    "import json\n",
    "\n",
    "# Developer API Key from spotify \n",
    "from config import skey"
   ]
  },
  {
   "cell_type": "code",
   "execution_count": 2,
   "id": "3545252b",
   "metadata": {},
   "outputs": [],
   "source": [
    "# Create a base URL\n",
    "base_url= ''"
   ]
  },
  {
   "cell_type": "code",
   "execution_count": null,
   "id": "280ede37",
   "metadata": {},
   "outputs": [],
   "source": []
  }
 ],
 "metadata": {
  "kernelspec": {
   "display_name": "Python 3",
   "language": "python",
   "name": "python3"
  },
  "language_info": {
   "codemirror_mode": {
    "name": "ipython",
    "version": 3
   },
   "file_extension": ".py",
   "mimetype": "text/x-python",
   "name": "python",
   "nbconvert_exporter": "python",
   "pygments_lexer": "ipython3",
   "version": "3.8.8"
  }
 },
 "nbformat": 4,
 "nbformat_minor": 5
}
