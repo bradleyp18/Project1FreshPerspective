{
 "cells": [
  {
   "cell_type": "code",
   "execution_count": 1,
   "id": "858df1a1",
   "metadata": {},
   "outputs": [],
   "source": [
    "# Import Dependencies\n",
    "\n",
    "import requests \n",
    "import json\n",
    "\n",
    "# Developer API Key from spotify \n",
    "from config import skey"
   ]
  },
  {
   "cell_type": "code",
   "execution_count": 3,
   "id": "9ee5589f",
   "metadata": {},
   "outputs": [
    {
     "ename": "NameError",
     "evalue": "name 'skey' is not defined",
     "output_type": "error",
     "traceback": [
      "\u001b[1;31m---------------------------------------------------------------------------\u001b[0m",
      "\u001b[1;31mNameError\u001b[0m                                 Traceback (most recent call last)",
      "\u001b[1;32m<ipython-input-3-4776833890a5>\u001b[0m in \u001b[0;36m<module>\u001b[1;34m\u001b[0m\n\u001b[1;32m----> 1\u001b[1;33m \u001b[0mskey\u001b[0m\u001b[1;33m\u001b[0m\u001b[1;33m\u001b[0m\u001b[0m\n\u001b[0m",
      "\u001b[1;31mNameError\u001b[0m: name 'skey' is not defined"
     ]
    }
   ],
   "source": [
    "skey"
   ]
  },
  {
   "cell_type": "code",
   "execution_count": 2,
   "id": "3545252b",
   "metadata": {},
   "outputs": [],
   "source": [
    "# Create a base URL\n",
    "base_url= ''"
   ]
  },
  {
   "cell_type": "code",
   "execution_count": null,
   "id": "57c7f0e0",
   "metadata": {},
   "outputs": [],
   "source": []
  }
 ],
 "metadata": {
  "kernelspec": {
   "display_name": "Python 3",
   "language": "python",
   "name": "python3"
  },
  "language_info": {
   "codemirror_mode": {
    "name": "ipython",
    "version": 3
   },
   "file_extension": ".py",
   "mimetype": "text/x-python",
   "name": "python",
   "nbconvert_exporter": "python",
   "pygments_lexer": "ipython3",
   "version": "3.8.8"
  }
 },
 "nbformat": 4,
 "nbformat_minor": 5
}
