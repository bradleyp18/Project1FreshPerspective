{
 "cells": [
  {
   "cell_type": "code",
   "execution_count": 4,
   "id": "858df1a1",
   "metadata": {},
   "outputs": [],
   "source": [
    "# Import Dependencies\n",
    "\n",
    "import requests \n",
    "import json\n",
    "\n",
    "# Developer API Key from spotify \n",
    "from config import skey"
   ]
  },
  {
   "cell_type": "code",
   "execution_count": 5,
   "id": "db457312",
   "metadata": {},
   "outputs": [
    {
     "data": {
      "text/plain": [
       "'f461a0c0267f42b9b4b4341bb5d8605c'"
      ]
     },
     "execution_count": 5,
     "metadata": {},
     "output_type": "execute_result"
    }
   ],
   "source": [
    "# Ensure key is inputted\n",
    "skey"
   ]
  },
  {
   "cell_type": "code",
   "execution_count": 8,
   "id": "3545252b",
   "metadata": {},
   "outputs": [],
   "source": [
    "# Create a base URL\n",
    "base_url = \"https://api.spotify.com/v1/me/albums\""
   ]
  },
  {
   "cell_type": "code",
   "execution_count": 9,
   "id": "d3a53dc3",
   "metadata": {},
   "outputs": [],
   "source": [
    "# Create Variable \n",
    "scan = requests.get(base_url)"
   ]
  },
  {
   "cell_type": "code",
   "execution_count": null,
   "id": "4af06a33",
   "metadata": {},
   "outputs": [],
   "source": []
  }
 ],
 "metadata": {
  "kernelspec": {
   "display_name": "Python 3",
   "language": "python",
   "name": "python3"
  },
  "language_info": {
   "codemirror_mode": {
    "name": "ipython",
    "version": 3
   },
   "file_extension": ".py",
   "mimetype": "text/x-python",
   "name": "python",
   "nbconvert_exporter": "python",
   "pygments_lexer": "ipython3",
   "version": "3.8.8"
  }
 },
 "nbformat": 4,
 "nbformat_minor": 5
}
