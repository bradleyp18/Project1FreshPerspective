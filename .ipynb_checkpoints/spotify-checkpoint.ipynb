{
 "cells": [
  {
   "cell_type": "code",
   "execution_count": null,
   "id": "858df1a1",
   "metadata": {},
   "outputs": [],
   "source": [
    "# Import Dependencies\n",
    "import os\n",
    "import requests \n",
    "import json\n",
    "import matplotlib.pyplot as plt\n",
    "import pandas as pd\n",
    "import numpy as np\n",
    "import requests\n",
    "import time\n",
    "import scipy.stats as st\n",
    "from scipy.stats import linregress\n",
    "from pprint import pprint\n",
    "from sklearn.model_selection import train_test_split\n",
    "import seaborn as sbrn\n",
    "\n",
    "# File to load\n",
    "spotify_df = pd.read_csv(\"Resources/Data Set under 100mb.csv\") \n",
    "\n",
    "spotify_df"
   ]
  },
  {
   "cell_type": "code",
   "execution_count": null,
   "id": "741579e5",
   "metadata": {},
   "outputs": [],
   "source": [
    "# Spotify api claims any value above .66 is favored to be a podcast / book \n",
    "# We will use any value below .66 as our classification of a song \n",
    "\n",
    "music_df = spotify_df.drop(spotify_df[(spotify_df['speechiness'] >= .66)].index)\n",
    "music_df"
   ]
  },
  {
   "cell_type": "code",
   "execution_count": null,
   "id": "0b59a14a",
   "metadata": {},
   "outputs": [],
   "source": []
  },
  {
   "cell_type": "code",
   "execution_count": null,
   "id": "77349779",
   "metadata": {},
   "outputs": [],
   "source": []
  },
  {
   "cell_type": "code",
   "execution_count": null,
   "id": "e82bd66c",
   "metadata": {},
   "outputs": [],
   "source": []
  },
  {
   "cell_type": "code",
   "execution_count": null,
   "id": "af232b47",
   "metadata": {},
   "outputs": [],
   "source": []
  },
  {
   "cell_type": "code",
   "execution_count": null,
   "id": "a75ed3bf",
   "metadata": {},
   "outputs": [],
   "source": [
    "# create a clean year column for the data \n",
    "music_df[\"release_date\"] = pd.to_datetime(music_df[\"release_date\"])\n",
    "year = music_df[\"release_date\"].dt.year\n",
    "year.head()"
   ]
  },
  {
   "cell_type": "code",
   "execution_count": null,
   "id": "cd3a399b",
   "metadata": {},
   "outputs": [],
   "source": [
    "music_df = pd.DataFrame({\"name\" : music_df[\"name\"],\n",
    "                                \"popularity\": music_df[\"popularity\"],\n",
    "                                \"year\" : year,\n",
    "                                \"danceability\":music_df[\"danceability\"],\n",
    "                                \"energy\": music_df[\"energy\"],\n",
    "                                \"loudness\": music_df[\"loudness\"],\n",
    "                                \"tempo\": music_df[\"tempo\"],\n",
    "                                \"valence\": music_df[\"valence\"],\n",
    "                                \"speechiness\": music_df[\"speechiness\"],\n",
    "                                \"acousticness\": music_df[\"acousticness\"],\n",
    "                                \"instrumentalness\": music_df[\"instrumentalness\"],\n",
    "})\n",
    "\n",
    "music_df = music_df.dropna()\n",
    "music_df.count()"
   ]
  },
  {
   "cell_type": "code",
   "execution_count": null,
   "id": "74984dbf",
   "metadata": {},
   "outputs": [],
   "source": [
    "music_df.plot.scatter(x = \"danceability\", y = \"popularity\", s = 1)"
   ]
  },
  {
   "cell_type": "code",
   "execution_count": null,
   "id": "9ebe8248",
   "metadata": {},
   "outputs": [],
   "source": [
    "x1 = music_df['danceability']\n",
    "y1 = music_df['popularity']\n",
    "\n",
    "# Calculate correlation coefficient \n",
    "\n",
    "corCof = st.pearsonr(x1, y1)\n",
    "print(f\" The correlation between danceability and popularity is {round(corCof[0],2)}\")\n",
    "\n",
    "# Calculate linear regression line \n",
    "(slope, intercept, rvalue, pvalue, stderr) = linregress(x1, y1)\n",
    "regressValues = x_data * slope + intercept\n",
    "lineEquation = \"y = \" + str(round(slope,2)) + \"x + \" + str(round(intercept,2))\n",
    "\n",
    "# plot scatter and linear regression \n",
    "plt.scatter(x1, y1)\n",
    "plt.plot(x1, regressValues, 'r-')\n",
    "\n",
    "# Label of lincear regression \n",
    "plt.annotate(lineEquation,(.5,10), fontsize= 15, color = 'Red')\n",
    "plt.show"
   ]
  },
  {
   "cell_type": "code",
   "execution_count": null,
   "id": "2334a219",
   "metadata": {},
   "outputs": [],
   "source": [
    "consolidated_df.plot.scatter(x = \"energy\", y = \"popularity\", s = .001)"
   ]
  },
  {
   "cell_type": "code",
   "execution_count": null,
   "id": "58019d3c",
   "metadata": {},
   "outputs": [],
   "source": [
    "x1 = consolidated_df['energy']\n",
    "y1 = consolidated_df['popularity']\n",
    "\n",
    "# insert overflow error correction\n",
    "# plt.rcParams['agg.path.chunksize'] = 10000\n",
    "\n",
    "# Calculate correlation coefficient \n",
    "\n",
    "corCof = st.pearsonr(x1, y1)\n",
    "print(f\" The correlation between energy and popularity is {round(corCof[0],2)}\")\n",
    "\n",
    "# Calculate linear regression line \n",
    "(slope, intercept, rvalue, pvalue, stderr) = linregress(x1, y1)\n",
    "regressValues = x_data * slope + intercept\n",
    "lineEquation = \"y = \" + str(round(slope,2)) + \"x + \" + str(round(intercept,2))\n",
    "\n",
    "# plot scatter and linear regression \n",
    "plt.scatter(x1, y1)\n",
    "plt.plot(x1, regressValues, 'r-')\n",
    "\n",
    "# Label of lincear regression \n",
    "plt.annotate(lineEquation,(.5,10), fontsize= 15, color = 'Red')\n",
    "plt.show"
   ]
  },
  {
   "cell_type": "code",
   "execution_count": null,
   "id": "7df1ca83",
   "metadata": {},
   "outputs": [],
   "source": [
    "consolidated_df.plot.scatter(x = \"loudness\", y = \"popularity\", s = .001)"
   ]
  },
  {
   "cell_type": "code",
   "execution_count": null,
   "id": "b9d392c4",
   "metadata": {},
   "outputs": [],
   "source": [
    "x1 = consolidated_df['loudness']\n",
    "y1 = consolidated_df['popularity']\n",
    "\n",
    "# Calculate correlation coefficient \n",
    "\n",
    "corCof = st.pearsonr(x1, y1)\n",
    "print(f\" The correlation between danceability and popularity is {round(corCof[0],2)}\")\n",
    "\n",
    "# Calculate linear regression line \n",
    "(slope, intercept, rvalue, pvalue, stderr) = linregress(x1, y1)\n",
    "regressValues = x_data * slope + intercept\n",
    "lineEquation = \"y = \" + str(round(slope,2)) + \"x + \" + str(round(intercept,2))\n",
    "\n",
    "# plot scatter and linear regression \n",
    "plt.scatter(x1, y1)\n",
    "plt.plot(x1, regressValues, 'r-')\n",
    "\n",
    "# Label of lincear regression \n",
    "plt.annotate(lineEquation,(-30,10), fontsize= 15, color = 'Red')\n",
    "plt.show"
   ]
  },
  {
   "cell_type": "code",
   "execution_count": null,
   "id": "f349c808",
   "metadata": {
    "scrolled": true
   },
   "outputs": [],
   "source": [
    "consolidated_df.plot.scatter(x = \"tempo\", y = \"popularity\", s = .001)"
   ]
  },
  {
   "cell_type": "code",
   "execution_count": null,
   "id": "d9a58d31",
   "metadata": {},
   "outputs": [],
   "source": [
    "x1 = consolidated_df['tempo']\n",
    "y1 = consolidated_df['popularity']\n",
    "\n",
    "# Calculate correlation coefficient \n",
    "\n",
    "corCof = st.pearsonr(x1, y1)\n",
    "print(f\" The correlation between tempo and popularity is {round(corCof[0],2)}\")\n",
    "\n",
    "# Calculate linear regression line \n",
    "(slope, intercept, rvalue, pvalue, stderr) = linregress(x1, y1)\n",
    "regressValues = x_data * slope + intercept\n",
    "lineEquation = \"y = \" + str(round(slope,2)) + \"x + \" + str(round(intercept,2))\n",
    "\n",
    "# plot scatter and linear regression \n",
    "plt.scatter(x1, y1)\n",
    "plt.plot(x1, regressValues, 'r-')\n",
    "\n",
    "# Label of lincear regression \n",
    "plt.annotate(lineEquation,(.5,10), fontsize= 15, color = 'Red')\n",
    "plt.show"
   ]
  },
  {
   "cell_type": "code",
   "execution_count": null,
   "id": "66207716",
   "metadata": {},
   "outputs": [],
   "source": [
    "consolidated_df.plot.scatter(x = \"valence\", y = \"popularity\", s = .001)"
   ]
  },
  {
   "cell_type": "code",
   "execution_count": null,
   "id": "81e74255",
   "metadata": {},
   "outputs": [],
   "source": [
    "x1 = consolidated_df['valence']\n",
    "y1 = consolidated_df['popularity']\n",
    "\n",
    "# Calculate correlation coefficient \n",
    "\n",
    "corCof = st.pearsonr(x1, y1)\n",
    "print(f\" The correlation between valence and popularity is {round(corCof[0],2)}\")\n",
    "\n",
    "# Calculate linear regression line \n",
    "(slope, intercept, rvalue, pvalue, stderr) = linregress(x1, y1)\n",
    "regressValues = x_data * slope + intercept\n",
    "lineEquation = \"y = \" + str(round(slope,2)) + \"x + \" + str(round(intercept,2))\n",
    "\n",
    "# plot scatter and linear regression \n",
    "plt.scatter(x1, y1)\n",
    "plt.plot(x1, regressValues, 'r-')\n",
    "\n",
    "# Label of lincear regression \n",
    "plt.annotate(lineEquation,(.5,10), fontsize= 15, color = 'Red')\n",
    "plt.show"
   ]
  },
  {
   "cell_type": "code",
   "execution_count": null,
   "id": "dd46bb7a",
   "metadata": {},
   "outputs": [],
   "source": [
    "consolidated_df.plot.scatter(x = \"energy\", y = \"danceability\", s = .001)"
   ]
  },
  {
   "cell_type": "code",
   "execution_count": null,
   "id": "c4476998",
   "metadata": {},
   "outputs": [],
   "source": []
  },
  {
   "cell_type": "code",
   "execution_count": null,
   "id": "1756728b",
   "metadata": {},
   "outputs": [],
   "source": []
  },
  {
   "cell_type": "code",
   "execution_count": null,
   "id": "92bba4f7",
   "metadata": {},
   "outputs": [],
   "source": []
  },
  {
   "cell_type": "code",
   "execution_count": null,
   "id": "d4d2e2f9",
   "metadata": {},
   "outputs": [],
   "source": []
  },
  {
   "cell_type": "code",
   "execution_count": null,
   "id": "afd5388f",
   "metadata": {},
   "outputs": [],
   "source": []
  },
  {
   "cell_type": "code",
   "execution_count": null,
   "id": "26fab264",
   "metadata": {},
   "outputs": [],
   "source": []
  },
  {
   "cell_type": "code",
   "execution_count": null,
   "id": "ddf84296",
   "metadata": {},
   "outputs": [],
   "source": []
  },
  {
   "cell_type": "code",
   "execution_count": null,
   "id": "3545252b",
   "metadata": {},
   "outputs": [],
   "source": [
    "# Remove Variables that are not tied to our regression "
   ]
  },
  {
   "cell_type": "code",
   "execution_count": null,
   "id": "13ceef62",
   "metadata": {},
   "outputs": [],
   "source": []
  },
  {
   "cell_type": "code",
   "execution_count": null,
   "id": "8eb70d1c",
   "metadata": {},
   "outputs": [],
   "source": []
  },
  {
   "cell_type": "code",
   "execution_count": null,
   "id": "23ac1c69",
   "metadata": {},
   "outputs": [],
   "source": []
  },
  {
   "cell_type": "code",
   "execution_count": null,
   "id": "3010bf39",
   "metadata": {},
   "outputs": [],
   "source": []
  }
 ],
 "metadata": {
  "kernelspec": {
   "display_name": "Python 3",
   "language": "python",
   "name": "python3"
  },
  "language_info": {
   "codemirror_mode": {
    "name": "ipython",
    "version": 3
   },
   "file_extension": ".py",
   "mimetype": "text/x-python",
   "name": "python",
   "nbconvert_exporter": "python",
   "pygments_lexer": "ipython3",
   "version": "3.8.8"
  }
 },
 "nbformat": 4,
 "nbformat_minor": 5
}
