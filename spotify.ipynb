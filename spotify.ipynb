{
 "cells": [
  {
   "cell_type": "code",
   "execution_count": 4,
   "id": "858df1a1",
   "metadata": {},
   "outputs": [],
   "source": [
    "# Import Dependencies\n",
    "\n",
    "import requests \n",
    "import json\n",
    "\n",
    "# Developer API Key from spotify \n",
    "from config import skey"
   ]
  },
  {
   "cell_type": "code",
   "execution_count": 5,
   "id": "172079ca",
   "metadata": {},
   "outputs": [
    {
     "data": {
      "text/plain": [
       "'f461a0c0267f42b9b4b4341bb5d8605c'"
      ]
     },
     "execution_count": 5,
     "metadata": {},
     "output_type": "execute_result"
    }
   ],
   "source": [
    "skey"
   ]
  },
  {
   "cell_type": "code",
   "execution_count": 2,
   "id": "3545252b",
   "metadata": {},
   "outputs": [],
   "source": [
    "# Create a base URL\n",
    "base_url= ''"
   ]
  },
  {
   "cell_type": "code",
   "execution_count": null,
   "id": "83a73956",
   "metadata": {},
   "outputs": [],
   "source": []
  }
 ],
 "metadata": {
  "kernelspec": {
   "display_name": "Python 3",
   "language": "python",
   "name": "python3"
  },
  "language_info": {
   "codemirror_mode": {
    "name": "ipython",
    "version": 3
   },
   "file_extension": ".py",
   "mimetype": "text/x-python",
   "name": "python",
   "nbconvert_exporter": "python",
   "pygments_lexer": "ipython3",
   "version": "3.8.8"
  }
 },
 "nbformat": 4,
 "nbformat_minor": 5
}
